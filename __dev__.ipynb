{
 "cells": [
  {
   "cell_type": "code",
   "execution_count": 21,
   "metadata": {},
   "outputs": [],
   "source": [
    "from typing import Callable\n",
    "import inspect\n",
    "from itertools import dropwhile\n",
    "\n",
    "\n",
    "def get_function_body(func):\n",
    "    source_lines = inspect.getsourcelines(func)[0]\n",
    "    source_lines = dropwhile(lambda x: x.startswith('@'), source_lines)\n",
    "    line = next(source_lines).strip()\n",
    "    if not line.startswith('def '):\n",
    "        return line.rsplit(':')[-1].strip()\n",
    "    elif not line.endswith(':'):\n",
    "        for line in source_lines:\n",
    "            line = line.strip()\n",
    "            if line.endswith(':'):\n",
    "                break\n",
    "    # Handle functions that are not one-liners  \n",
    "    first_line = next(source_lines)\n",
    "    # Find the indentation of the first line    \n",
    "    indentation = len(first_line) - len(first_line.lstrip())\n",
    "    return ''.join([first_line[indentation:]] + [line[indentation:] for line in source_lines])"
   ]
  },
  {
   "cell_type": "code",
   "execution_count": 22,
   "metadata": {},
   "outputs": [],
   "source": [
    "def pyodide_callback(func: Callable):\n",
    "    def inner(*args, **kwargs):\n",
    "        pass\n",
    "    \n",
    "    print(get_function_body(func))\n",
    "    return inner"
   ]
  },
  {
   "cell_type": "code",
   "execution_count": 23,
   "metadata": {},
   "outputs": [
    {
     "name": "stdout",
     "output_type": "stream",
     "text": [
      "print(arg)\n",
      "\"aze\"\n",
      "return (arg,)\n",
      "\n"
     ]
    }
   ],
   "source": [
    "@pyodide_callback\n",
    "def foo(arg: int, \n",
    "        ):\n",
    "    print(arg)\n",
    "    \"aze\"\n",
    "\n",
    "    return (arg,)"
   ]
  },
  {
   "cell_type": "code",
   "execution_count": null,
   "metadata": {},
   "outputs": [],
   "source": []
  }
 ],
 "metadata": {
  "kernelspec": {
   "display_name": "base_env",
   "language": "python",
   "name": "python3"
  },
  "language_info": {
   "codemirror_mode": {
    "name": "ipython",
    "version": 3
   },
   "file_extension": ".py",
   "mimetype": "text/x-python",
   "name": "python",
   "nbconvert_exporter": "python",
   "pygments_lexer": "ipython3",
   "version": "3.10.11"
  },
  "orig_nbformat": 4
 },
 "nbformat": 4,
 "nbformat_minor": 2
}
