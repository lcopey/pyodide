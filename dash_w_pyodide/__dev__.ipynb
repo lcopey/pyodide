{
 "cells": [
  {
   "cell_type": "code",
   "execution_count": 1,
   "id": "966ad811-43f7-4e55-bc2b-73ca7e5311e8",
   "metadata": {
    "tags": []
   },
   "outputs": [],
   "source": [
    "import inspect\n",
    "import re\n",
    "from functools import wraps\n",
    "from dash import Input, Output, State, clientside_callback"
   ]
  },
  {
   "cell_type": "code",
   "execution_count": null,
   "id": "b760e463-81fa-4c3f-995e-1f5fa49ce190",
   "metadata": {},
   "outputs": [],
   "source": [
    "with open('./assets/script.py', mode='w') as f:\n",
    "    "
   ]
  },
  {
   "cell_type": "code",
   "execution_count": 129,
   "id": "47505bf2-96a6-4812-b115-cdbc5f113bb5",
   "metadata": {
    "tags": []
   },
   "outputs": [],
   "source": [
    "def python_callback(*args):\n",
    "    def wrapper(func):\n",
    "        import inspect\n",
    "        \n",
    "        code = inspect.getsource(func)\n",
    "        match = re.match(r'(?:@.*\\(.*?\\)\\n)(def.*)', code, flags=re.DOTALL)\n",
    "        code = match.group(1)\n",
    "        js_code = f\"\"\"console.log({code})\"\"\"\n",
    "        clientside_callback(js_code, *args)\n",
    "        \n",
    "        return func\n",
    "    return wrapper"
   ]
  },
  {
   "cell_type": "code",
   "execution_count": 130,
   "id": "213c7266-6675-46eb-8259-1840920f0a3b",
   "metadata": {},
   "outputs": [],
   "source": [
    "@python_callback(\n",
    "    Output('aze', 'data'),\n",
    "    Input('qsd', 'data')\n",
    ")\n",
    "def foo(data):\n",
    "    return data"
   ]
  },
  {
   "cell_type": "code",
   "execution_count": null,
   "id": "81a73db3-ab21-40fb-bc81-05d723aa6658",
   "metadata": {},
   "outputs": [],
   "source": []
  }
 ],
 "metadata": {
  "kernelspec": {
   "display_name": "Python 3 (ipykernel)",
   "language": "python",
   "name": "python3"
  },
  "language_info": {
   "codemirror_mode": {
    "name": "ipython",
    "version": 3
   },
   "file_extension": ".py",
   "mimetype": "text/x-python",
   "name": "python",
   "nbconvert_exporter": "python",
   "pygments_lexer": "ipython3",
   "version": "3.10.11"
  }
 },
 "nbformat": 4,
 "nbformat_minor": 5
}
